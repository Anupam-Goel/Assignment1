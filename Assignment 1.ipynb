{
 "cells": [
  {
   "cell_type": "code",
   "execution_count": 6,
   "metadata": {},
   "outputs": [
    {
     "name": "stdout",
     "output_type": "stream",
     "text": [
      "Enter a number12\n",
      "3.46\n"
     ]
    }
   ],
   "source": [
    "#1. Write a program to find square root of a number.\n",
    "import math\n",
    "num = int(input('Enter a number '))\n",
    "sr = math.sqrt(num)\n",
    "print(round(sr,2))"
   ]
  },
  {
   "cell_type": "code",
   "execution_count": 12,
   "metadata": {},
   "outputs": [
    {
     "name": "stdout",
     "output_type": "stream",
     "text": [
      "Enter first side: 6\n",
      "Enter second side: 7\n",
      "Enter third side: 8\n",
      "Area of the triangle is:  20.33\n"
     ]
    }
   ],
   "source": [
    "#2. Python Program to find the area of triangle\n",
    "a = float(input('Enter first side: '))\n",
    "b = float(input('Enter second side: '))\n",
    "c = float(input('Enter third side: '))\n",
    "s = (a + b + c) / 2\n",
    "area=math.sqrt(s*(s-a)*(s-b)*(s-c))\n",
    "print(\"Area of the triangle is: \",round(area,2))"
   ]
  },
  {
   "cell_type": "code",
   "execution_count": 14,
   "metadata": {},
   "outputs": [
    {
     "name": "stdout",
     "output_type": "stream",
     "text": [
      "2 1\n"
     ]
    }
   ],
   "source": [
    "#3. Python program to swap two variables provided by the user without temporary variable\n",
    "x= 1\n",
    "y = 2\n",
    "x= x+y\n",
    "y=x-y\n",
    "x=x-y\n",
    "print(x,y)\n"
   ]
  },
  {
   "cell_type": "code",
   "execution_count": 17,
   "metadata": {},
   "outputs": [
    {
     "name": "stdout",
     "output_type": "stream",
     "text": [
      "Enter a year: 2018\n",
      "2018  is not a leap year\n"
     ]
    }
   ],
   "source": [
    "#4. Python program to check if the input year is a leap year or not\n",
    "\n",
    "year = int(input(\"Enter a year: \"))\n",
    "if (year % 4) == 0:\n",
    "   if (year % 100) == 0:\n",
    "       if (year % 400) == 0:\n",
    "           print(year,\" is a leap year\")\n",
    "       else:\n",
    "           print(year,\" is a leap year\")\n",
    "   else:\n",
    "       print(year,\" is a leap year\")\n",
    "else:\n",
    "   print(year,\" is not a leap year\")"
   ]
  },
  {
   "cell_type": "code",
   "execution_count": 19,
   "metadata": {},
   "outputs": [
    {
     "name": "stdout",
     "output_type": "stream",
     "text": [
      "Enter the value of n :5\n",
      "Fibonacci sequence upto 5 :\n",
      "0\n",
      "1\n",
      "1\n",
      "2\n",
      "3\n"
     ]
    }
   ],
   "source": [
    "#5. Program to display the Fibonacci sequence up to n-th term where n is provided by the user\n",
    "\n",
    "n= int(input('Enter the value of n :'))\n",
    "n1 = 0\n",
    "n2 = 1\n",
    "count = 0\n",
    "\n",
    "if n <= 0:\n",
    "   print(\"Please enter a positive integer\")\n",
    "elif n == 1:\n",
    "   print(\"Fibonacci sequence upto\",n,\":\")\n",
    "   print(n1)\n",
    "else:\n",
    "   print(\"Fibonacci sequence upto\",n,\":\")\n",
    "   while count < n:\n",
    "       print(n1)\n",
    "       nth = n1 + n2\n",
    "       n1 = n2\n",
    "       n2 = nth\n",
    "       count = count+1"
   ]
  },
  {
   "cell_type": "code",
   "execution_count": 28,
   "metadata": {},
   "outputs": [
    {
     "name": "stdout",
     "output_type": "stream",
     "text": [
      "Enter a number :123\n",
      "123 is not an Armstrong number\n"
     ]
    }
   ],
   "source": [
    "#6. Python program to check if the number provided by the user is an Armstrong number or not\n",
    "\n",
    "num= int(input('Enter a number :'))\n",
    "order = len(str(num))\n",
    "sum = 0\n",
    "temp = num\n",
    "while temp > 0:\n",
    "   digit = temp % 10\n",
    "   sum = sum + (digit ** order)\n",
    "   temp= temp//10\n",
    "if num == sum:\n",
    "   print(num,\"is an Armstrong number\")\n",
    "else:\n",
    "   print(num,\"is not an Armstrong number\")"
   ]
  },
  {
   "cell_type": "code",
   "execution_count": 30,
   "metadata": {},
   "outputs": [
    {
     "name": "stdout",
     "output_type": "stream",
     "text": [
      "How many powers? 8\n",
      "The total powers is: 8\n",
      "2 raised to power 0 is 1\n",
      "2 raised to power 1 is 2\n",
      "2 raised to power 2 is 4\n",
      "2 raised to power 3 is 8\n",
      "2 raised to power 4 is 16\n",
      "2 raised to power 5 is 32\n",
      "2 raised to power 6 is 64\n",
      "2 raised to power 7 is 128\n"
     ]
    }
   ],
   "source": [
    "#7. Python Program to display the powers of 2 using anonymous function\n",
    "\n",
    "powers= int(input(\"How many powers? \"))\n",
    "result = list(map(lambda x: 2 ** x, range(powers)))\n",
    "print(\"The total powers is:\", powers)\n",
    "for i in range(powers):\n",
    "   print(\"2 raised to power\",i,\"is\",result[i])"
   ]
  }
 ],
 "metadata": {
  "kernelspec": {
   "display_name": "Python 3",
   "language": "python",
   "name": "python3"
  },
  "language_info": {
   "codemirror_mode": {
    "name": "ipython",
    "version": 3
   },
   "file_extension": ".py",
   "mimetype": "text/x-python",
   "name": "python",
   "nbconvert_exporter": "python",
   "pygments_lexer": "ipython3",
   "version": "3.6.4"
  }
 },
 "nbformat": 4,
 "nbformat_minor": 2
}
